{
 "cells": [
  {
   "cell_type": "markdown",
   "metadata": {},
   "source": [
    "# TODO\n",
    "- [ ] data preprocessing\n",
    "    - 성별 미분류는 데이터에서 제거\n",
    "- [ ] dummy variable\n",
    "    - 모든 칼럼을 인코딩.\n",
    "- [ ] pca.. or stepwise?\n",
    "- [ ] visualization\n",
    "- [ ] how to make logistic regression...?\n",
    "    - [ ] does logistic regression use gradient descent..?"
   ]
  },
  {
   "cell_type": "code",
   "execution_count": null,
   "metadata": {},
   "outputs": [],
   "source": [
    "import pandas as pd\n",
    "import numpy as np\n",
    "from sklearn.model_selection import train_test_split\n",
    "from sklearn.linear_model import LogisticRegression\n",
    "from sklearn.metrics import classification_report, confusion_matrix\n",
    "\n",
    "import seaborn as sns\n",
    "import matplotlib.pyplot as plt\n",
    "\n",
    "# korean font issue\n",
    "plt.rcParams['font.family'] = 'NanumBarunGothic'"
   ]
  },
  {
   "cell_type": "code",
   "execution_count": null,
   "metadata": {},
   "outputs": [],
   "source": [
    "raw_data = pd.read_excel('./HMA_rawdata.xlsx', engine='openpyxl', sheet_name=['raw_data'])\n",
    "raw_data = raw_data['raw_data']"
   ]
  },
  {
   "cell_type": "code",
   "execution_count": null,
   "metadata": {},
   "outputs": [],
   "source": [
    "# columns\n",
    "DAY = '요일'\n",
    "MEDIA = '발송매체'\n",
    "IS_ADVERTISEMENT = '메시지 광고성 여부'\n",
    "IS_INCLUDE_FINANCE = '메시지 금융 관련 내용 여부'\n",
    "AGE = '연령대'\n",
    "GENDER = '성별'\n",
    "TIME = '발송시간대'\n",
    "IS_SUCCESS = '발송성공여부'\n",
    "LOGIN_DAYS_IN_MONTH = '최근 30일 간  로그인 일수'\n",
    "IS_APPROVED = '메시지 수용 여부'\n",
    "\n",
    "raw_data = raw_data[raw_data[GENDER] != '미분류']\n",
    "raw_X = raw_data.drop(IS_APPROVED, axis=1)\n",
    "raw_y = raw_data[IS_APPROVED]"
   ]
  },
  {
   "cell_type": "code",
   "execution_count": null,
   "metadata": {},
   "outputs": [],
   "source": [
    "sns.histplot(raw_y)"
   ]
  },
  {
   "cell_type": "code",
   "execution_count": null,
   "metadata": {},
   "outputs": [],
   "source": [
    "raw_X.describe()"
   ]
  },
  {
   "cell_type": "code",
   "execution_count": null,
   "metadata": {},
   "outputs": [],
   "source": [
    "columns = [\n",
    "    DAY,\n",
    "    MEDIA,\n",
    "    IS_ADVERTISEMENT,\n",
    "    IS_INCLUDE_FINANCE,\n",
    "    AGE,\n",
    "    GENDER,\n",
    "    TIME,\n",
    "    IS_SUCCESS,\n",
    "    LOGIN_DAYS_IN_MONTH,\n",
    "]\n",
    "\n",
    "X = pd.get_dummies(raw_X, columns=columns, drop_first=True)\n",
    "y = pd.get_dummies(raw_y, drop_first=True)"
   ]
  },
  {
   "cell_type": "code",
   "execution_count": null,
   "metadata": {},
   "outputs": [],
   "source": [
    "print(X)\n",
    "X.describe()"
   ]
  },
  {
   "cell_type": "code",
   "execution_count": null,
   "metadata": {},
   "outputs": [],
   "source": [
    "train_X, test_X, train_y, test_y = train_test_split(X, y, test_size=0.2, random_state=42)\n",
    "\n",
    "model = LogisticRegression()\n",
    "model.fit(train_X, train_y)\n",
    "\n",
    "pred_y = model.predict(test_X)\n",
    "print(pred_y)\n",
    "\n",
    "\n",
    "# is there some true...?\n",
    "for el in pred_y:\n",
    "    if el:\n",
    "        print(\"It's true!\")\n",
    "        print(el)\n",
    "\n",
    "# for el in test_y:\n",
    "#     if el:\n",
    "#         print(\"It's true!\")\n",
    "#         print(el)\n",
    "\n",
    "# print(classification_report(test_y, pred_y))\n",
    "# sns.barplot(pred_y)"
   ]
  }
 ],
 "metadata": {
  "kernelspec": {
   "display_name": "venv",
   "language": "python",
   "name": "python3"
  },
  "language_info": {
   "codemirror_mode": {
    "name": "ipython",
    "version": 3
   },
   "file_extension": ".py",
   "mimetype": "text/x-python",
   "name": "python",
   "nbconvert_exporter": "python",
   "pygments_lexer": "ipython3",
   "version": "3.10.12"
  }
 },
 "nbformat": 4,
 "nbformat_minor": 2
}
