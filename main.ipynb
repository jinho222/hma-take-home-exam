{
 "cells": [
  {
   "cell_type": "markdown",
   "metadata": {},
   "source": [
    "# TODO\n",
    "- data preprocessing\n",
    "    - 성별 미분류는 데이터에서 제거\n",
    "- dummy variable\n",
    "    - 모든 칼럼을 인코딩.\n",
    "- pca.. or stepwise?\n",
    "    - 수업에서 다룬 stepwise...\n",
    "- visualization\n",
    "    - not adequate methodology...\n",
    "- how to make logistic regression...?\n",
    "    - does logistic regression use gradient descent..?\n",
    "    - no logistic regression is not necessary"
   ]
  },
  {
   "cell_type": "code",
   "execution_count": null,
   "metadata": {},
   "outputs": [],
   "source": [
    "import pandas as pd\n",
    "import numpy as np\n",
    "from sklearn.preprocessing import OneHotEncoder\n",
    "import category_encoders as ce\n",
    "\n",
    "import seaborn as sns\n",
    "import matplotlib.pyplot as plt\n",
    "import statsmodels.api as sm\n",
    "\n",
    "import warnings\n",
    "\n",
    "warnings.filterwarnings('ignore')\n",
    "\n",
    "# korean font issue\n",
    "plt.rcParams['font.family'] = 'AppleGothic'"
   ]
  },
  {
   "cell_type": "code",
   "execution_count": null,
   "metadata": {},
   "outputs": [],
   "source": [
    "raw_data = pd.read_excel('./HMA_rawdata.xlsx', engine='openpyxl', sheet_name=['raw_data'])\n",
    "raw_data = raw_data['raw_data']\n",
    "raw_data.describe()"
   ]
  },
  {
   "cell_type": "code",
   "execution_count": null,
   "metadata": {},
   "outputs": [],
   "source": [
    "# columns\n",
    "DAY = '요일'\n",
    "MEDIA = '발송매체'\n",
    "IS_ADVERTISEMENT = '메시지 광고성 여부'\n",
    "IS_INCLUDE_FINANCE = '메시지 금융 관련 내용 여부'\n",
    "AGE = '연령대'\n",
    "GENDER = '성별'\n",
    "TIME = '발송시간대'\n",
    "IS_SUCCESS = '발송성공여부'\n",
    "LOGIN_DAYS_IN_MONTH = '최근 30일 간  로그인 일수'\n",
    "IS_APPROVED = '메시지 수용 여부'\n",
    "\n",
    "raw_data = raw_data[raw_data[GENDER] != '미분류'] # 성별 미분류 제외\n",
    "raw_X = raw_data.drop(IS_APPROVED, axis=1)\n",
    "raw_y = raw_data[IS_APPROVED]"
   ]
  },
  {
   "cell_type": "code",
   "execution_count": null,
   "metadata": {},
   "outputs": [],
   "source": [
    "sns.histplot(raw_y)"
   ]
  },
  {
   "cell_type": "code",
   "execution_count": null,
   "metadata": {},
   "outputs": [],
   "source": [
    "raw_data.describe()"
   ]
  },
  {
   "cell_type": "code",
   "execution_count": null,
   "metadata": {},
   "outputs": [],
   "source": [
    "fig, ax = plt.subplots(3, 3)\n",
    "fig.set_size_inches(20, 10)\n",
    "x_list = [\n",
    "    DAY,\n",
    "    MEDIA,\n",
    "    IS_ADVERTISEMENT,\n",
    "    IS_INCLUDE_FINANCE,\n",
    "    AGE,\n",
    "    GENDER,\n",
    "    TIME,\n",
    "    IS_SUCCESS,\n",
    "    LOGIN_DAYS_IN_MONTH,\n",
    "]\n",
    "\n",
    "for i in range(len(x_list)):\n",
    "    row = i // 3 \n",
    "    col = i % 3 \n",
    "    sns.stripplot(x=x_list[i], y=IS_APPROVED, data=raw_data, ax=ax[row][col])\n",
    "\n",
    "plt.show()"
   ]
  },
  {
   "cell_type": "code",
   "execution_count": null,
   "metadata": {},
   "outputs": [],
   "source": [
    "columns = [\n",
    "    DAY,\n",
    "    MEDIA,\n",
    "    IS_ADVERTISEMENT,\n",
    "    IS_INCLUDE_FINANCE,\n",
    "    AGE,\n",
    "    GENDER,\n",
    "    TIME,\n",
    "    LOGIN_DAYS_IN_MONTH,\n",
    "]\n",
    "\n",
    "encoder = OneHotEncoder(drop='first', sparse=False)\n",
    "X = encoder.fit_transform(raw_X.drop(IS_SUCCESS, axis=1))\n",
    "X = sm.add_constant(X)\n",
    "\n",
    "y = pd.get_dummies(raw_y, drop_first=True, dtype=int)\n",
    "\n",
    "names = [''] + [*encoder.get_feature_names_out()]\n",
    "tmp_X = X.copy()\n",
    "\n",
    "model = sm.Logit(y, tmp_X).fit()\n",
    "\n",
    "# Stepwise\n",
    "while True:\n",
    "    max_idx = np.argmax(model.pvalues)\n",
    "    max_p_value = model.pvalues[max_idx]\n",
    "    if max_p_value > 0.05:\n",
    "        tmp_X = np.delete(tmp_X, max_idx, axis=1)\n",
    "        name = names.pop(max_idx)\n",
    "        model = sm.Logit(y, tmp_X).fit()\n",
    "        print(model.summary())\n",
    "        print(f\">>> variable {max_idx}: {name} deleted\")\n",
    "    else:\n",
    "        break\n",
    "\n",
    "\n",
    "print(model.summary())\n",
    "params = np.exp(model.params)\n",
    "print('[beta에 exponential을 취했을 때의 값들]')\n",
    "for i, param in enumerate(params):\n",
    "    print(f'>>> {names[i] if i > 0 else \"const\"}: {param}')"
   ]
  },
  {
   "cell_type": "code",
   "execution_count": null,
   "metadata": {},
   "outputs": [],
   "source": [
    "print(pd.crosstab(raw_data[DAY], raw_data[AGE]))\n",
    "print('=========')\n",
    "print(pd.crosstab(raw_data[MEDIA], raw_data[AGE]))\n",
    "print('=========')\n",
    "print(pd.crosstab(raw_data[IS_ADVERTISEMENT], raw_data[AGE]))\n",
    "print('=========')\n",
    "print(pd.crosstab(raw_data[IS_INCLUDE_FINANCE], raw_data[AGE]))\n",
    "print('=========')\n",
    "print(pd.crosstab(raw_data[GENDER], raw_data[AGE]))\n",
    "print('=========')\n",
    "print(pd.crosstab(raw_data[TIME], raw_data[AGE]))\n",
    "print('=========')\n",
    "print(pd.crosstab(raw_data[LOGIN_DAYS_IN_MONTH], raw_data[AGE]))\n",
    "print('=========')\n",
    "print(pd.crosstab(raw_data[IS_APPROVED], raw_data[AGE]))\n",
    "print('=========')"
   ]
  }
 ],
 "metadata": {
  "kernelspec": {
   "display_name": "venv",
   "language": "python",
   "name": "python3"
  },
  "language_info": {
   "codemirror_mode": {
    "name": "ipython",
    "version": 3
   },
   "file_extension": ".py",
   "mimetype": "text/x-python",
   "name": "python",
   "nbconvert_exporter": "python",
   "pygments_lexer": "ipython3",
   "version": "3.11.6"
  }
 },
 "nbformat": 4,
 "nbformat_minor": 2
}
