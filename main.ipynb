{
 "cells": [
  {
   "cell_type": "markdown",
   "metadata": {},
   "source": [
    "# TODO\n",
    "- [ ] data preprocessing\n",
    "    - 성별 미분류는 데이터에서 제거\n",
    "- [ ] dummy variable\n",
    "    - 모든 칼럼을 인코딩.\n",
    "- [ ] pca.. or stepwise?\n",
    "- [ ] visualization\n",
    "- [ ] how to make logistic regression...?\n",
    "    - [ ] does logistic regression use gradient descent..?"
   ]
  },
  {
   "cell_type": "code",
   "execution_count": 90,
   "metadata": {},
   "outputs": [],
   "source": [
    "import pandas as pd\n",
    "import numpy as np\n",
    "from sklearn.model_selection import train_test_split\n",
    "from sklearn.linear_model import LogisticRegression\n",
    "from sklearn.metrics import classification_report, confusion_matrix\n",
    "import category_encoders as ce\n",
    "\n",
    "import seaborn as sns\n",
    "import matplotlib.pyplot as plt\n",
    "\n",
    "import warnings\n",
    "\n",
    "warnings.filterwarnings('ignore')\n",
    "\n",
    "# korean font issue\n",
    "plt.rcParams['font.family'] = 'NanumBarunGothic'"
   ]
  },
  {
   "cell_type": "code",
   "execution_count": null,
   "metadata": {},
   "outputs": [],
   "source": [
    "raw_data = pd.read_excel('./HMA_rawdata.xlsx', engine='openpyxl', sheet_name=['raw_data'])\n",
    "raw_data = raw_data['raw_data']"
   ]
  },
  {
   "cell_type": "code",
   "execution_count": null,
   "metadata": {},
   "outputs": [],
   "source": [
    "# columns\n",
    "DAY = '요일'\n",
    "MEDIA = '발송매체'\n",
    "IS_ADVERTISEMENT = '메시지 광고성 여부'\n",
    "IS_INCLUDE_FINANCE = '메시지 금융 관련 내용 여부'\n",
    "AGE = '연령대'\n",
    "GENDER = '성별'\n",
    "TIME = '발송시간대'\n",
    "IS_SUCCESS = '발송성공여부'\n",
    "LOGIN_DAYS_IN_MONTH = '최근 30일 간  로그인 일수'\n",
    "IS_APPROVED = '메시지 수용 여부'\n",
    "\n",
    "raw_data = raw_data[raw_data[GENDER] != '미분류']\n",
    "raw_X = raw_data.drop(IS_APPROVED, axis=1)\n",
    "raw_y = raw_data[IS_APPROVED]"
   ]
  },
  {
   "cell_type": "code",
   "execution_count": null,
   "metadata": {},
   "outputs": [],
   "source": [
    "sns.histplot(raw_y)"
   ]
  },
  {
   "cell_type": "code",
   "execution_count": null,
   "metadata": {},
   "outputs": [],
   "source": [
    "raw_X.describe()"
   ]
  },
  {
   "cell_type": "code",
   "execution_count": null,
   "metadata": {},
   "outputs": [],
   "source": [
    "columns = [\n",
    "    DAY,\n",
    "    MEDIA,\n",
    "    IS_ADVERTISEMENT,\n",
    "    IS_INCLUDE_FINANCE,\n",
    "    AGE,\n",
    "    GENDER,\n",
    "    TIME,\n",
    "    IS_SUCCESS,\n",
    "    LOGIN_DAYS_IN_MONTH,\n",
    "]\n",
    "\n",
    "X = pd.get_dummies(raw_X, columns=columns, drop_first=True)\n",
    "y = pd.get_dummies(raw_y, drop_first=True)"
   ]
  },
  {
   "cell_type": "code",
   "execution_count": 91,
   "metadata": {},
   "outputs": [
    {
     "ename": "ValueError",
     "evalue": "X does not contain the columns listed in cols",
     "output_type": "error",
     "traceback": [
      "\u001b[0;31m---------------------------------------------------------------------------\u001b[0m",
      "\u001b[0;31mValueError\u001b[0m                                Traceback (most recent call last)",
      "\u001b[1;32m/home/jinho/work/hma-take-home-exam/main.ipynb Cell 8\u001b[0m line \u001b[0;36m2\n\u001b[1;32m      <a href='vscode-notebook-cell://wsl%2Bubuntu/home/jinho/work/hma-take-home-exam/main.ipynb#X20sdnNjb2RlLXJlbW90ZQ%3D%3D?line=0'>1</a>\u001b[0m encoder \u001b[39m=\u001b[39m ce\u001b[39m.\u001b[39mBinaryEncoder(cols\u001b[39m=\u001b[39mcolumns)\n\u001b[0;32m----> <a href='vscode-notebook-cell://wsl%2Bubuntu/home/jinho/work/hma-take-home-exam/main.ipynb#X20sdnNjb2RlLXJlbW90ZQ%3D%3D?line=1'>2</a>\u001b[0m X \u001b[39m=\u001b[39m encoder\u001b[39m.\u001b[39;49mfit_transform(X)\n\u001b[1;32m      <a href='vscode-notebook-cell://wsl%2Bubuntu/home/jinho/work/hma-take-home-exam/main.ipynb#X20sdnNjb2RlLXJlbW90ZQ%3D%3D?line=3'>4</a>\u001b[0m \u001b[39mprint\u001b[39m(X)\n\u001b[1;32m      <a href='vscode-notebook-cell://wsl%2Bubuntu/home/jinho/work/hma-take-home-exam/main.ipynb#X20sdnNjb2RlLXJlbW90ZQ%3D%3D?line=5'>6</a>\u001b[0m X\u001b[39m.\u001b[39mdescribe()\n",
      "File \u001b[0;32m~/work/hma-take-home-exam/venv/lib/python3.10/site-packages/sklearn/utils/_set_output.py:157\u001b[0m, in \u001b[0;36m_wrap_method_output.<locals>.wrapped\u001b[0;34m(self, X, *args, **kwargs)\u001b[0m\n\u001b[1;32m    155\u001b[0m \u001b[39m@wraps\u001b[39m(f)\n\u001b[1;32m    156\u001b[0m \u001b[39mdef\u001b[39;00m \u001b[39mwrapped\u001b[39m(\u001b[39mself\u001b[39m, X, \u001b[39m*\u001b[39margs, \u001b[39m*\u001b[39m\u001b[39m*\u001b[39mkwargs):\n\u001b[0;32m--> 157\u001b[0m     data_to_wrap \u001b[39m=\u001b[39m f(\u001b[39mself\u001b[39;49m, X, \u001b[39m*\u001b[39;49margs, \u001b[39m*\u001b[39;49m\u001b[39m*\u001b[39;49mkwargs)\n\u001b[1;32m    158\u001b[0m     \u001b[39mif\u001b[39;00m \u001b[39misinstance\u001b[39m(data_to_wrap, \u001b[39mtuple\u001b[39m):\n\u001b[1;32m    159\u001b[0m         \u001b[39m# only wrap the first output for cross decomposition\u001b[39;00m\n\u001b[1;32m    160\u001b[0m         return_tuple \u001b[39m=\u001b[39m (\n\u001b[1;32m    161\u001b[0m             _wrap_data_with_container(method, data_to_wrap[\u001b[39m0\u001b[39m], X, \u001b[39mself\u001b[39m),\n\u001b[1;32m    162\u001b[0m             \u001b[39m*\u001b[39mdata_to_wrap[\u001b[39m1\u001b[39m:],\n\u001b[1;32m    163\u001b[0m         )\n",
      "File \u001b[0;32m~/work/hma-take-home-exam/venv/lib/python3.10/site-packages/sklearn/base.py:916\u001b[0m, in \u001b[0;36mTransformerMixin.fit_transform\u001b[0;34m(self, X, y, **fit_params)\u001b[0m\n\u001b[1;32m    912\u001b[0m \u001b[39m# non-optimized default implementation; override when a better\u001b[39;00m\n\u001b[1;32m    913\u001b[0m \u001b[39m# method is possible for a given clustering algorithm\u001b[39;00m\n\u001b[1;32m    914\u001b[0m \u001b[39mif\u001b[39;00m y \u001b[39mis\u001b[39;00m \u001b[39mNone\u001b[39;00m:\n\u001b[1;32m    915\u001b[0m     \u001b[39m# fit method of arity 1 (unsupervised transformation)\u001b[39;00m\n\u001b[0;32m--> 916\u001b[0m     \u001b[39mreturn\u001b[39;00m \u001b[39mself\u001b[39;49m\u001b[39m.\u001b[39;49mfit(X, \u001b[39m*\u001b[39;49m\u001b[39m*\u001b[39;49mfit_params)\u001b[39m.\u001b[39mtransform(X)\n\u001b[1;32m    917\u001b[0m \u001b[39melse\u001b[39;00m:\n\u001b[1;32m    918\u001b[0m     \u001b[39m# fit method of arity 2 (supervised transformation)\u001b[39;00m\n\u001b[1;32m    919\u001b[0m     \u001b[39mreturn\u001b[39;00m \u001b[39mself\u001b[39m\u001b[39m.\u001b[39mfit(X, y, \u001b[39m*\u001b[39m\u001b[39m*\u001b[39mfit_params)\u001b[39m.\u001b[39mtransform(X)\n",
      "File \u001b[0;32m~/work/hma-take-home-exam/venv/lib/python3.10/site-packages/category_encoders/utils.py:306\u001b[0m, in \u001b[0;36mBaseEncoder.fit\u001b[0;34m(self, X, y, **kwargs)\u001b[0m\n\u001b[1;32m    303\u001b[0m \u001b[39mself\u001b[39m\u001b[39m.\u001b[39m_determine_fit_columns(X)\n\u001b[1;32m    305\u001b[0m \u001b[39mif\u001b[39;00m \u001b[39mnot\u001b[39;00m \u001b[39mset\u001b[39m(\u001b[39mself\u001b[39m\u001b[39m.\u001b[39mcols)\u001b[39m.\u001b[39missubset(X\u001b[39m.\u001b[39mcolumns):\n\u001b[0;32m--> 306\u001b[0m     \u001b[39mraise\u001b[39;00m \u001b[39mValueError\u001b[39;00m(\u001b[39m'\u001b[39m\u001b[39mX does not contain the columns listed in cols\u001b[39m\u001b[39m'\u001b[39m)\n\u001b[1;32m    308\u001b[0m \u001b[39mif\u001b[39;00m \u001b[39mself\u001b[39m\u001b[39m.\u001b[39mhandle_missing \u001b[39m==\u001b[39m \u001b[39m'\u001b[39m\u001b[39merror\u001b[39m\u001b[39m'\u001b[39m:\n\u001b[1;32m    309\u001b[0m     \u001b[39mif\u001b[39;00m X[\u001b[39mself\u001b[39m\u001b[39m.\u001b[39mcols]\u001b[39m.\u001b[39misna()\u001b[39m.\u001b[39many()\u001b[39m.\u001b[39many():\n",
      "\u001b[0;31mValueError\u001b[0m: X does not contain the columns listed in cols"
     ]
    }
   ],
   "source": [
    "# !TODO: how to conver into binary var??\n",
    "# encoder = ce.BinaryEncoder(cols=columns)\n",
    "# X = encoder.fit_transform(X)\n",
    "\n",
    "print(X)\n",
    "\n",
    "X.describe()"
   ]
  },
  {
   "cell_type": "code",
   "execution_count": null,
   "metadata": {},
   "outputs": [],
   "source": [
    "train_X, test_X, train_y, test_y = train_test_split(X, y, test_size=0.2, random_state=42)\n",
    "\n",
    "model = LogisticRegression()\n",
    "model.fit(train_X, train_y)\n",
    "\n",
    "pred_y = model.predict(test_X)\n",
    "print(pred_y)\n",
    "\n",
    "\n",
    "# is there some true...?\n",
    "for el in pred_y:\n",
    "    if el:\n",
    "        print(\"It's true!\")\n",
    "        print(el)\n",
    "\n",
    "# for el in test_y:\n",
    "#     if el:\n",
    "#         print(\"It's true!\")\n",
    "#         print(el)\n",
    "\n",
    "# print(classification_report(test_y, pred_y))\n",
    "# sns.barplot(pred_y)"
   ]
  }
 ],
 "metadata": {
  "kernelspec": {
   "display_name": "venv",
   "language": "python",
   "name": "python3"
  },
  "language_info": {
   "codemirror_mode": {
    "name": "ipython",
    "version": 3
   },
   "file_extension": ".py",
   "mimetype": "text/x-python",
   "name": "python",
   "nbconvert_exporter": "python",
   "pygments_lexer": "ipython3",
   "version": "3.10.12"
  }
 },
 "nbformat": 4,
 "nbformat_minor": 2
}
